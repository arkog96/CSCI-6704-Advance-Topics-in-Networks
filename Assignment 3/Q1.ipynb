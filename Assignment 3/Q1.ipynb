{
 "cells": [
  {
   "cell_type": "code",
   "execution_count": 29,
   "id": "f42f845c",
   "metadata": {
    "scrolled": true
   },
   "outputs": [
    {
     "name": "stdout",
     "output_type": "stream",
     "text": [
      "Enter the message M(x):1001100\n",
      "Enter the Reference Polynomial G(x):1100\n",
      "Message Transmitted P(x): 1001100100\n",
      "Remainder: 100\n",
      "Receiver Side: The transmitted message is not error-free\n",
      "The bit string after adding random error to the P(x):  1001100101\n",
      "Receiver Side: The message after random bit shifting is not error-free\n"
     ]
    }
   ],
   "source": [
    "##Arka Ghosh \n",
    "##BannerID: B00911033\n",
    "\n",
    "#Method to perform the CRC Division \n",
    "def CRC_Division(dividend, divisor):\n",
    "    divisor_len = len(divisor)\n",
    "    dividend_len = len(dividend)\n",
    "    result = dividend[0 : divisor_len]\n",
    " \n",
    "    while divisor_len < dividend_len:\n",
    "        if result[0] == '1':\n",
    "            #a = int(divisor) ^ int(tmp)\n",
    "            y = ''.join('1' if i != j else '0' for i, j in list(zip(divisor[::-1],result[::-1]))[::-1])\n",
    "            y = divisor[len(y):] + result[len(y):] + y\n",
    "            result = y[1:] + dividend[divisor_len]\n",
    "        else:\n",
    "            a = '0'*divisor_len\n",
    "            y = ''.join('1' if i != j else '0' for i, j in list(zip(a[::-1],result[::-1]))[::-1])\n",
    "            y = divisor[len(y):] + result[len(y):] + y\n",
    "            result = y[1:] + dividend[divisor_len]\n",
    "        divisor_len = divisor_len + 1\n",
    "    if result[0] == '1':\n",
    "        y = ''.join('1' if i != j else '0' for i, j in list(zip(divisor[::-1],result[::-1]))[::-1])\n",
    "        y = divisor[len(y):] + result[len(y):] + y\n",
    "        result = y[1:] \n",
    "    else:\n",
    "        a = '0'*divisor_len\n",
    "        y = ''.join('1' if i != j else '0' for i, j in list(zip(a[::-1],result[::-1]))[::-1])\n",
    "        y = divisor[len(y):] + result[len(y):] + y\n",
    "        result = y[1:]\n",
    " \n",
    "    return result\n",
    "\n",
    "def SenderSide(message, g):\n",
    "    g_ = \"0\"*(len(g)-1)\n",
    "    \n",
    "    #Find the M'(x) which is M(x) + G(x)\n",
    "    appended_message = message + g_\n",
    "    #print(appended_message)\n",
    "    \n",
    "    remainder = CRC_Division(appended_message, g)\n",
    "    #Message transmitted P(x)\n",
    "    trans_message = message + remainder\n",
    "    #swapped_bit = int(trans_message) ^ 1\n",
    "    #print(str(swapped_bit))\n",
    "    \n",
    "    print(\"Message Transmitted P(x):\", trans_message)\n",
    "    print(\"Remainder:\", remainder)\n",
    "    return trans_message \n",
    "    \n",
    "\n",
    "def ReceiverSide(message, g):\n",
    "    #check the remainder for the transmitted message \n",
    "    remainder1 = CRC_Division(message,g)\n",
    "    #print(remainder)\n",
    "    if remainder1 == len(g)*0:\n",
    "        print(\"Receiver Side: The transmitted message is error-free\")\n",
    "    else:\n",
    "        print(\"Receiver Side: The transmitted message is not error-free\")\n",
    "        \n",
    "    #XOR the transmitted message with 1 to add random error to the last one bits \n",
    "    swapped_bit = int(message) ^ 1\n",
    "    swapped_bit_message = str(swapped_bit)\n",
    "    print(\"The bit string after adding random error to the P(x): \", swapped_bit)\n",
    "    \n",
    "    remainder2 = CRC_Division(swapped_bit_message, g)\n",
    "    if remainder2 == len(g)*0:\n",
    "        print(\"Receiver Side: The message after random bit shifting is error-free\")\n",
    "    else:\n",
    "        print(\"Receiver Side: The message after random bit shifting is not error-free\")\n",
    "    \n",
    "        \n",
    "message = input(\"Enter the message M(x):\")\n",
    "polynomial = input(\"Enter the Reference Polynomial G(x):\")\n",
    "\n",
    "tranmitted_message = SenderSide(message,polynomial)\n",
    "#print(tranmitted_message)\n",
    "received_message = ReceiverSide(tranmitted_message, polynomial)"
   ]
  },
  {
   "cell_type": "code",
   "execution_count": null,
   "id": "89329ccd",
   "metadata": {},
   "outputs": [],
   "source": []
  }
 ],
 "metadata": {
  "kernelspec": {
   "display_name": "Python 3 (ipykernel)",
   "language": "python",
   "name": "python3"
  },
  "language_info": {
   "codemirror_mode": {
    "name": "ipython",
    "version": 3
   },
   "file_extension": ".py",
   "mimetype": "text/x-python",
   "name": "python",
   "nbconvert_exporter": "python",
   "pygments_lexer": "ipython3",
   "version": "3.9.7"
  }
 },
 "nbformat": 4,
 "nbformat_minor": 5
}
